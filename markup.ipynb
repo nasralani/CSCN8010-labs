{
 "cells": [
  {
   "cell_type": "markdown",
   "metadata": {},
   "source": [
    "![Cloud](./test_image.jpg)"
   ]
  },
  {
   "cell_type": "markdown",
   "metadata": {},
   "source": []
  },
  {
   "cell_type": "markdown",
   "metadata": {},
   "source": [
    "|month|Year|\n",
    "|-----|----|\n",
    "\n",
    "\n",
    "this is a list : \n",
    "- first\n",
    "- second\n",
    "\n",
    "1. first \n",
    "2. Second\n",
    "\n",
    "- ### this is nested list \n",
    "    1. first\n",
    "    2. second\n"
   ]
  },
  {
   "cell_type": "markdown",
   "metadata": {},
   "source": []
  }
 ],
 "metadata": {
  "language_info": {
   "name": "python"
  }
 },
 "nbformat": 4,
 "nbformat_minor": 2
}
